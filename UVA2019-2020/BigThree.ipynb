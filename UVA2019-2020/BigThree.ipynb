{
 "cells": [
  {
   "cell_type": "code",
   "execution_count": 1,
   "id": "246b580a",
   "metadata": {},
   "outputs": [],
   "source": [
    "import pandas as pd"
   ]
  },
  {
   "cell_type": "code",
   "execution_count": 2,
   "id": "9f7c0112",
   "metadata": {},
   "outputs": [],
   "source": [
    "rj = pd.read_csv(\"RJ.BARRETT.csv\")"
   ]
  },
  {
   "cell_type": "code",
   "execution_count": 4,
   "id": "e043bbc3",
   "metadata": {},
   "outputs": [
    {
     "data": {
      "text/html": [
       "<div>\n",
       "<style scoped>\n",
       "    .dataframe tbody tr th:only-of-type {\n",
       "        vertical-align: middle;\n",
       "    }\n",
       "\n",
       "    .dataframe tbody tr th {\n",
       "        vertical-align: top;\n",
       "    }\n",
       "\n",
       "    .dataframe thead th {\n",
       "        text-align: right;\n",
       "    }\n",
       "</style>\n",
       "<table border=\"1\" class=\"dataframe\">\n",
       "  <thead>\n",
       "    <tr style=\"text-align: right;\">\n",
       "      <th></th>\n",
       "      <th>Unnamed: 0</th>\n",
       "      <th>Status</th>\n",
       "      <th>Mins</th>\n",
       "      <th>oMins</th>\n",
       "      <th>dMins</th>\n",
       "      <th>oPOSS</th>\n",
       "      <th>dPOSS</th>\n",
       "      <th>ORTG</th>\n",
       "      <th>DRTG</th>\n",
       "      <th>NETRTG</th>\n",
       "      <th>...</th>\n",
       "      <th>ASTrate</th>\n",
       "      <th>dASTrate</th>\n",
       "      <th>TOrate</th>\n",
       "      <th>dTOrate</th>\n",
       "      <th>BLKrate</th>\n",
       "      <th>oBLKrate</th>\n",
       "      <th>ORB.</th>\n",
       "      <th>DRB.</th>\n",
       "      <th>TimePerPoss</th>\n",
       "      <th>dTimePerPoss</th>\n",
       "    </tr>\n",
       "  </thead>\n",
       "  <tbody>\n",
       "    <tr>\n",
       "      <th>0</th>\n",
       "      <td>1</td>\n",
       "      <td>RJ.BARRETT On</td>\n",
       "      <td>620.584</td>\n",
       "      <td>274.466</td>\n",
       "      <td>346.118</td>\n",
       "      <td>1155</td>\n",
       "      <td>1157</td>\n",
       "      <td>115.758</td>\n",
       "      <td>92.567</td>\n",
       "      <td>23.191</td>\n",
       "      <td>...</td>\n",
       "      <td>0.52</td>\n",
       "      <td>0.486</td>\n",
       "      <td>0.177</td>\n",
       "      <td>0.200</td>\n",
       "      <td>0.097</td>\n",
       "      <td>0.048</td>\n",
       "      <td>0.373</td>\n",
       "      <td>0.717</td>\n",
       "      <td>14.258</td>\n",
       "      <td>17.949</td>\n",
       "    </tr>\n",
       "    <tr>\n",
       "      <th>1</th>\n",
       "      <td>2</td>\n",
       "      <td>RJ.BARRETT Off</td>\n",
       "      <td>65.282</td>\n",
       "      <td>33.867</td>\n",
       "      <td>31.419</td>\n",
       "      <td>128</td>\n",
       "      <td>117</td>\n",
       "      <td>101.562</td>\n",
       "      <td>86.325</td>\n",
       "      <td>15.238</td>\n",
       "      <td>...</td>\n",
       "      <td>0.60</td>\n",
       "      <td>0.641</td>\n",
       "      <td>0.172</td>\n",
       "      <td>0.205</td>\n",
       "      <td>0.121</td>\n",
       "      <td>0.087</td>\n",
       "      <td>0.233</td>\n",
       "      <td>0.712</td>\n",
       "      <td>15.875</td>\n",
       "      <td>16.112</td>\n",
       "    </tr>\n",
       "  </tbody>\n",
       "</table>\n",
       "<p>2 rows × 71 columns</p>\n",
       "</div>"
      ],
      "text/plain": [
       "   Unnamed: 0          Status     Mins    oMins    dMins  oPOSS  dPOSS  \\\n",
       "0           1   RJ.BARRETT On  620.584  274.466  346.118   1155   1157   \n",
       "1           2  RJ.BARRETT Off   65.282   33.867   31.419    128    117   \n",
       "\n",
       "      ORTG    DRTG  NETRTG  ...  ASTrate  dASTrate  TOrate  dTOrate  BLKrate  \\\n",
       "0  115.758  92.567  23.191  ...     0.52     0.486   0.177    0.200    0.097   \n",
       "1  101.562  86.325  15.238  ...     0.60     0.641   0.172    0.205    0.121   \n",
       "\n",
       "   oBLKrate   ORB.   DRB.  TimePerPoss  dTimePerPoss  \n",
       "0     0.048  0.373  0.717       14.258        17.949  \n",
       "1     0.087  0.233  0.712       15.875        16.112  \n",
       "\n",
       "[2 rows x 71 columns]"
      ]
     },
     "execution_count": 4,
     "metadata": {},
     "output_type": "execute_result"
    }
   ],
   "source": [
    "rj"
   ]
  },
  {
   "cell_type": "code",
   "execution_count": 6,
   "id": "21b94fda",
   "metadata": {},
   "outputs": [],
   "source": [
    "cam = pd.read_csv(\"CAM.REDDISH.csv\")"
   ]
  },
  {
   "cell_type": "code",
   "execution_count": 7,
   "id": "acd1ab96",
   "metadata": {},
   "outputs": [
    {
     "data": {
      "text/html": [
       "<div>\n",
       "<style scoped>\n",
       "    .dataframe tbody tr th:only-of-type {\n",
       "        vertical-align: middle;\n",
       "    }\n",
       "\n",
       "    .dataframe tbody tr th {\n",
       "        vertical-align: top;\n",
       "    }\n",
       "\n",
       "    .dataframe thead th {\n",
       "        text-align: right;\n",
       "    }\n",
       "</style>\n",
       "<table border=\"1\" class=\"dataframe\">\n",
       "  <thead>\n",
       "    <tr style=\"text-align: right;\">\n",
       "      <th></th>\n",
       "      <th>Unnamed: 0</th>\n",
       "      <th>Status</th>\n",
       "      <th>Mins</th>\n",
       "      <th>oMins</th>\n",
       "      <th>dMins</th>\n",
       "      <th>oPOSS</th>\n",
       "      <th>dPOSS</th>\n",
       "      <th>ORTG</th>\n",
       "      <th>DRTG</th>\n",
       "      <th>NETRTG</th>\n",
       "      <th>...</th>\n",
       "      <th>ASTrate</th>\n",
       "      <th>dASTrate</th>\n",
       "      <th>TOrate</th>\n",
       "      <th>dTOrate</th>\n",
       "      <th>BLKrate</th>\n",
       "      <th>oBLKrate</th>\n",
       "      <th>ORB.</th>\n",
       "      <th>DRB.</th>\n",
       "      <th>TimePerPoss</th>\n",
       "      <th>dTimePerPoss</th>\n",
       "    </tr>\n",
       "  </thead>\n",
       "  <tbody>\n",
       "    <tr>\n",
       "      <th>0</th>\n",
       "      <td>1</td>\n",
       "      <td>CAM.REDDISH On</td>\n",
       "      <td>620.584</td>\n",
       "      <td>274.466</td>\n",
       "      <td>346.118</td>\n",
       "      <td>1155</td>\n",
       "      <td>1157</td>\n",
       "      <td>115.758</td>\n",
       "      <td>92.567</td>\n",
       "      <td>23.191</td>\n",
       "      <td>...</td>\n",
       "      <td>0.520</td>\n",
       "      <td>0.486</td>\n",
       "      <td>0.177</td>\n",
       "      <td>0.200</td>\n",
       "      <td>0.097</td>\n",
       "      <td>0.048</td>\n",
       "      <td>0.373</td>\n",
       "      <td>0.717</td>\n",
       "      <td>14.258</td>\n",
       "      <td>17.949</td>\n",
       "    </tr>\n",
       "    <tr>\n",
       "      <th>1</th>\n",
       "      <td>2</td>\n",
       "      <td>CAM.REDDISH Off</td>\n",
       "      <td>268.531</td>\n",
       "      <td>121.900</td>\n",
       "      <td>146.633</td>\n",
       "      <td>501</td>\n",
       "      <td>499</td>\n",
       "      <td>120.758</td>\n",
       "      <td>87.575</td>\n",
       "      <td>33.183</td>\n",
       "      <td>...</td>\n",
       "      <td>0.538</td>\n",
       "      <td>0.554</td>\n",
       "      <td>0.134</td>\n",
       "      <td>0.226</td>\n",
       "      <td>0.137</td>\n",
       "      <td>0.056</td>\n",
       "      <td>0.386</td>\n",
       "      <td>0.664</td>\n",
       "      <td>14.599</td>\n",
       "      <td>17.631</td>\n",
       "    </tr>\n",
       "  </tbody>\n",
       "</table>\n",
       "<p>2 rows × 71 columns</p>\n",
       "</div>"
      ],
      "text/plain": [
       "   Unnamed: 0           Status     Mins    oMins    dMins  oPOSS  dPOSS  \\\n",
       "0           1   CAM.REDDISH On  620.584  274.466  346.118   1155   1157   \n",
       "1           2  CAM.REDDISH Off  268.531  121.900  146.633    501    499   \n",
       "\n",
       "      ORTG    DRTG  NETRTG  ...  ASTrate  dASTrate  TOrate  dTOrate  BLKrate  \\\n",
       "0  115.758  92.567  23.191  ...    0.520     0.486   0.177    0.200    0.097   \n",
       "1  120.758  87.575  33.183  ...    0.538     0.554   0.134    0.226    0.137   \n",
       "\n",
       "   oBLKrate   ORB.   DRB.  TimePerPoss  dTimePerPoss  \n",
       "0     0.048  0.373  0.717       14.258        17.949  \n",
       "1     0.056  0.386  0.664       14.599        17.631  \n",
       "\n",
       "[2 rows x 71 columns]"
      ]
     },
     "execution_count": 7,
     "metadata": {},
     "output_type": "execute_result"
    }
   ],
   "source": [
    "cam"
   ]
  },
  {
   "cell_type": "code",
   "execution_count": 8,
   "id": "4f5f3517",
   "metadata": {},
   "outputs": [],
   "source": [
    "zion = pd.read_csv(\"ZION.WILLIAMSON.csv\")"
   ]
  },
  {
   "cell_type": "code",
   "execution_count": 9,
   "id": "9342700a",
   "metadata": {},
   "outputs": [
    {
     "data": {
      "text/html": [
       "<div>\n",
       "<style scoped>\n",
       "    .dataframe tbody tr th:only-of-type {\n",
       "        vertical-align: middle;\n",
       "    }\n",
       "\n",
       "    .dataframe tbody tr th {\n",
       "        vertical-align: top;\n",
       "    }\n",
       "\n",
       "    .dataframe thead th {\n",
       "        text-align: right;\n",
       "    }\n",
       "</style>\n",
       "<table border=\"1\" class=\"dataframe\">\n",
       "  <thead>\n",
       "    <tr style=\"text-align: right;\">\n",
       "      <th></th>\n",
       "      <th>Unnamed: 0</th>\n",
       "      <th>Status</th>\n",
       "      <th>Mins</th>\n",
       "      <th>oMins</th>\n",
       "      <th>dMins</th>\n",
       "      <th>oPOSS</th>\n",
       "      <th>dPOSS</th>\n",
       "      <th>ORTG</th>\n",
       "      <th>DRTG</th>\n",
       "      <th>NETRTG</th>\n",
       "      <th>...</th>\n",
       "      <th>ASTrate</th>\n",
       "      <th>dASTrate</th>\n",
       "      <th>TOrate</th>\n",
       "      <th>dTOrate</th>\n",
       "      <th>BLKrate</th>\n",
       "      <th>oBLKrate</th>\n",
       "      <th>ORB.</th>\n",
       "      <th>DRB.</th>\n",
       "      <th>TimePerPoss</th>\n",
       "      <th>dTimePerPoss</th>\n",
       "    </tr>\n",
       "  </thead>\n",
       "  <tbody>\n",
       "    <tr>\n",
       "      <th>0</th>\n",
       "      <td>1</td>\n",
       "      <td>ZION.WILLIAMSON On</td>\n",
       "      <td>620.584</td>\n",
       "      <td>274.466</td>\n",
       "      <td>346.118</td>\n",
       "      <td>1155</td>\n",
       "      <td>1157</td>\n",
       "      <td>115.758</td>\n",
       "      <td>92.567</td>\n",
       "      <td>23.191</td>\n",
       "      <td>...</td>\n",
       "      <td>0.520</td>\n",
       "      <td>0.486</td>\n",
       "      <td>0.177</td>\n",
       "      <td>0.200</td>\n",
       "      <td>0.097</td>\n",
       "      <td>0.048</td>\n",
       "      <td>0.373</td>\n",
       "      <td>0.717</td>\n",
       "      <td>14.258</td>\n",
       "      <td>17.949</td>\n",
       "    </tr>\n",
       "    <tr>\n",
       "      <th>1</th>\n",
       "      <td>2</td>\n",
       "      <td>ZION.WILLIAMSON Off</td>\n",
       "      <td>340.850</td>\n",
       "      <td>157.933</td>\n",
       "      <td>182.918</td>\n",
       "      <td>647</td>\n",
       "      <td>641</td>\n",
       "      <td>106.182</td>\n",
       "      <td>95.008</td>\n",
       "      <td>11.175</td>\n",
       "      <td>...</td>\n",
       "      <td>0.525</td>\n",
       "      <td>0.473</td>\n",
       "      <td>0.189</td>\n",
       "      <td>0.173</td>\n",
       "      <td>0.105</td>\n",
       "      <td>0.057</td>\n",
       "      <td>0.313</td>\n",
       "      <td>0.696</td>\n",
       "      <td>14.646</td>\n",
       "      <td>17.122</td>\n",
       "    </tr>\n",
       "  </tbody>\n",
       "</table>\n",
       "<p>2 rows × 71 columns</p>\n",
       "</div>"
      ],
      "text/plain": [
       "   Unnamed: 0               Status     Mins    oMins    dMins  oPOSS  dPOSS  \\\n",
       "0           1   ZION.WILLIAMSON On  620.584  274.466  346.118   1155   1157   \n",
       "1           2  ZION.WILLIAMSON Off  340.850  157.933  182.918    647    641   \n",
       "\n",
       "      ORTG    DRTG  NETRTG  ...  ASTrate  dASTrate  TOrate  dTOrate  BLKrate  \\\n",
       "0  115.758  92.567  23.191  ...    0.520     0.486   0.177    0.200    0.097   \n",
       "1  106.182  95.008  11.175  ...    0.525     0.473   0.189    0.173    0.105   \n",
       "\n",
       "   oBLKrate   ORB.   DRB.  TimePerPoss  dTimePerPoss  \n",
       "0     0.048  0.373  0.717       14.258        17.949  \n",
       "1     0.057  0.313  0.696       14.646        17.122  \n",
       "\n",
       "[2 rows x 71 columns]"
      ]
     },
     "execution_count": 9,
     "metadata": {},
     "output_type": "execute_result"
    }
   ],
   "source": [
    "zion"
   ]
  },
  {
   "cell_type": "code",
   "execution_count": 13,
   "id": "65469e5f",
   "metadata": {},
   "outputs": [
    {
     "data": {
      "text/plain": [
       "Index(['Unnamed: 0', 'Status', 'Mins', 'oMins', 'dMins', 'oPOSS', 'dPOSS',\n",
       "       'ORTG', 'DRTG', 'NETRTG', 'PTS', 'dPTS', 'FGA', 'dFGA', 'FGM', 'dFGM',\n",
       "       'TPA', 'dTPA', 'TPM', 'dTPM', 'FTA', 'dFTA', 'FTM', 'dFTM', 'RIMA',\n",
       "       'dRIMA', 'RIMM', 'dRIMM', 'ORB', 'dORB', 'DRB', 'dDRB', 'BLK', 'dBLK',\n",
       "       'TO', 'dTO', 'AST', 'dAST', 'ePOSS', 'FG.', 'dFG.', 'TPP', 'dTPP',\n",
       "       'FTP', 'dFTP', 'eFG.', 'deFG.', 'TS.', 'dTS.', 'RIM.', 'dRIM.', 'MID.',\n",
       "       'dMID.', 'TPrate', 'dTPrate', 'RIMrate', 'dRIMrate', 'MIDrate',\n",
       "       'dMIDrate', 'FTrate', 'dFTrate', 'ASTrate', 'dASTrate', 'TOrate',\n",
       "       'dTOrate', 'BLKrate', 'oBLKrate', 'ORB.', 'DRB.', 'TimePerPoss',\n",
       "       'dTimePerPoss'],\n",
       "      dtype='object')"
      ]
     },
     "execution_count": 13,
     "metadata": {},
     "output_type": "execute_result"
    }
   ],
   "source": [
    "zion.columns"
   ]
  },
  {
   "cell_type": "code",
   "execution_count": 32,
   "id": "1f8f1548",
   "metadata": {},
   "outputs": [],
   "source": [
    "def PACE(df):\n",
    "    df[\"PACE\"] = 5 * ((df[\"oPOSS\"] + df[\"dPOSS\"])/ df[\"Mins\"])\n",
    "    return df"
   ]
  },
  {
   "cell_type": "code",
   "execution_count": 33,
   "id": "76d41a4a",
   "metadata": {},
   "outputs": [],
   "source": [
    "zion_four_factors = PACE(zion)"
   ]
  },
  {
   "cell_type": "code",
   "execution_count": 34,
   "id": "ee850e9d",
   "metadata": {},
   "outputs": [
    {
     "data": {
      "text/html": [
       "<div>\n",
       "<style scoped>\n",
       "    .dataframe tbody tr th:only-of-type {\n",
       "        vertical-align: middle;\n",
       "    }\n",
       "\n",
       "    .dataframe tbody tr th {\n",
       "        vertical-align: top;\n",
       "    }\n",
       "\n",
       "    .dataframe thead th {\n",
       "        text-align: right;\n",
       "    }\n",
       "</style>\n",
       "<table border=\"1\" class=\"dataframe\">\n",
       "  <thead>\n",
       "    <tr style=\"text-align: right;\">\n",
       "      <th></th>\n",
       "      <th>Unnamed: 0</th>\n",
       "      <th>Status</th>\n",
       "      <th>Mins</th>\n",
       "      <th>oMins</th>\n",
       "      <th>dMins</th>\n",
       "      <th>oPOSS</th>\n",
       "      <th>dPOSS</th>\n",
       "      <th>ORTG</th>\n",
       "      <th>DRTG</th>\n",
       "      <th>NETRTG</th>\n",
       "      <th>...</th>\n",
       "      <th>dASTrate</th>\n",
       "      <th>TOrate</th>\n",
       "      <th>dTOrate</th>\n",
       "      <th>BLKrate</th>\n",
       "      <th>oBLKrate</th>\n",
       "      <th>ORB.</th>\n",
       "      <th>DRB.</th>\n",
       "      <th>TimePerPoss</th>\n",
       "      <th>dTimePerPoss</th>\n",
       "      <th>PACE</th>\n",
       "    </tr>\n",
       "  </thead>\n",
       "  <tbody>\n",
       "    <tr>\n",
       "      <th>0</th>\n",
       "      <td>1</td>\n",
       "      <td>ZION.WILLIAMSON On</td>\n",
       "      <td>620.584</td>\n",
       "      <td>274.466</td>\n",
       "      <td>346.118</td>\n",
       "      <td>1155</td>\n",
       "      <td>1157</td>\n",
       "      <td>115.758</td>\n",
       "      <td>92.567</td>\n",
       "      <td>23.191</td>\n",
       "      <td>...</td>\n",
       "      <td>0.486</td>\n",
       "      <td>0.177</td>\n",
       "      <td>0.200</td>\n",
       "      <td>0.097</td>\n",
       "      <td>0.048</td>\n",
       "      <td>0.373</td>\n",
       "      <td>0.717</td>\n",
       "      <td>14.258</td>\n",
       "      <td>17.949</td>\n",
       "      <td>18.627615</td>\n",
       "    </tr>\n",
       "    <tr>\n",
       "      <th>1</th>\n",
       "      <td>2</td>\n",
       "      <td>ZION.WILLIAMSON Off</td>\n",
       "      <td>340.850</td>\n",
       "      <td>157.933</td>\n",
       "      <td>182.918</td>\n",
       "      <td>647</td>\n",
       "      <td>641</td>\n",
       "      <td>106.182</td>\n",
       "      <td>95.008</td>\n",
       "      <td>11.175</td>\n",
       "      <td>...</td>\n",
       "      <td>0.473</td>\n",
       "      <td>0.189</td>\n",
       "      <td>0.173</td>\n",
       "      <td>0.105</td>\n",
       "      <td>0.057</td>\n",
       "      <td>0.313</td>\n",
       "      <td>0.696</td>\n",
       "      <td>14.646</td>\n",
       "      <td>17.122</td>\n",
       "      <td>18.893942</td>\n",
       "    </tr>\n",
       "  </tbody>\n",
       "</table>\n",
       "<p>2 rows × 72 columns</p>\n",
       "</div>"
      ],
      "text/plain": [
       "   Unnamed: 0               Status     Mins    oMins    dMins  oPOSS  dPOSS  \\\n",
       "0           1   ZION.WILLIAMSON On  620.584  274.466  346.118   1155   1157   \n",
       "1           2  ZION.WILLIAMSON Off  340.850  157.933  182.918    647    641   \n",
       "\n",
       "      ORTG    DRTG  NETRTG  ...  dASTrate  TOrate  dTOrate  BLKrate  oBLKrate  \\\n",
       "0  115.758  92.567  23.191  ...     0.486   0.177    0.200    0.097     0.048   \n",
       "1  106.182  95.008  11.175  ...     0.473   0.189    0.173    0.105     0.057   \n",
       "\n",
       "    ORB.   DRB.  TimePerPoss  dTimePerPoss       PACE  \n",
       "0  0.373  0.717       14.258        17.949  18.627615  \n",
       "1  0.313  0.696       14.646        17.122  18.893942  \n",
       "\n",
       "[2 rows x 72 columns]"
      ]
     },
     "execution_count": 34,
     "metadata": {},
     "output_type": "execute_result"
    }
   ],
   "source": [
    "zion_four_factors"
   ]
  },
  {
   "cell_type": "code",
   "execution_count": 35,
   "id": "1e3f67c4",
   "metadata": {},
   "outputs": [],
   "source": [
    "def select_four_factors(df):\n",
    "    four_factor = df[[\"Status\",\"PACE\",\"eFG.\",\"TOrate\",\"FTrate\",\"ORTG\",\"DRTG\",\"NETRTG\"]]\n",
    "    return four_factor"
   ]
  },
  {
   "cell_type": "code",
   "execution_count": 36,
   "id": "94e0331c",
   "metadata": {},
   "outputs": [],
   "source": [
    "zion_four_factors = select_four_factors(zion_four_factors)"
   ]
  },
  {
   "cell_type": "code",
   "execution_count": 37,
   "id": "2f3aeb54",
   "metadata": {},
   "outputs": [
    {
     "data": {
      "text/html": [
       "<div>\n",
       "<style scoped>\n",
       "    .dataframe tbody tr th:only-of-type {\n",
       "        vertical-align: middle;\n",
       "    }\n",
       "\n",
       "    .dataframe tbody tr th {\n",
       "        vertical-align: top;\n",
       "    }\n",
       "\n",
       "    .dataframe thead th {\n",
       "        text-align: right;\n",
       "    }\n",
       "</style>\n",
       "<table border=\"1\" class=\"dataframe\">\n",
       "  <thead>\n",
       "    <tr style=\"text-align: right;\">\n",
       "      <th></th>\n",
       "      <th>Status</th>\n",
       "      <th>PACE</th>\n",
       "      <th>eFG.</th>\n",
       "      <th>TOrate</th>\n",
       "      <th>FTrate</th>\n",
       "      <th>ORTG</th>\n",
       "      <th>DRTG</th>\n",
       "      <th>NETRTG</th>\n",
       "    </tr>\n",
       "  </thead>\n",
       "  <tbody>\n",
       "    <tr>\n",
       "      <th>0</th>\n",
       "      <td>ZION.WILLIAMSON On</td>\n",
       "      <td>18.627615</td>\n",
       "      <td>0.566</td>\n",
       "      <td>0.177</td>\n",
       "      <td>0.321</td>\n",
       "      <td>115.758</td>\n",
       "      <td>92.567</td>\n",
       "      <td>23.191</td>\n",
       "    </tr>\n",
       "    <tr>\n",
       "      <th>1</th>\n",
       "      <td>ZION.WILLIAMSON Off</td>\n",
       "      <td>18.893942</td>\n",
       "      <td>0.530</td>\n",
       "      <td>0.189</td>\n",
       "      <td>0.360</td>\n",
       "      <td>106.182</td>\n",
       "      <td>95.008</td>\n",
       "      <td>11.175</td>\n",
       "    </tr>\n",
       "  </tbody>\n",
       "</table>\n",
       "</div>"
      ],
      "text/plain": [
       "                Status       PACE   eFG.  TOrate  FTrate     ORTG    DRTG  \\\n",
       "0   ZION.WILLIAMSON On  18.627615  0.566   0.177   0.321  115.758  92.567   \n",
       "1  ZION.WILLIAMSON Off  18.893942  0.530   0.189   0.360  106.182  95.008   \n",
       "\n",
       "   NETRTG  \n",
       "0  23.191  \n",
       "1  11.175  "
      ]
     },
     "execution_count": 37,
     "metadata": {},
     "output_type": "execute_result"
    }
   ],
   "source": [
    "zion_four_factors"
   ]
  },
  {
   "cell_type": "code",
   "execution_count": 38,
   "id": "860aecca",
   "metadata": {},
   "outputs": [],
   "source": [
    "rj_four_factors = PACE(rj)\n",
    "rj_four_factors = select_four_factors(rj_four_factors)"
   ]
  },
  {
   "cell_type": "code",
   "execution_count": 39,
   "id": "9fec14c7",
   "metadata": {},
   "outputs": [
    {
     "data": {
      "text/html": [
       "<div>\n",
       "<style scoped>\n",
       "    .dataframe tbody tr th:only-of-type {\n",
       "        vertical-align: middle;\n",
       "    }\n",
       "\n",
       "    .dataframe tbody tr th {\n",
       "        vertical-align: top;\n",
       "    }\n",
       "\n",
       "    .dataframe thead th {\n",
       "        text-align: right;\n",
       "    }\n",
       "</style>\n",
       "<table border=\"1\" class=\"dataframe\">\n",
       "  <thead>\n",
       "    <tr style=\"text-align: right;\">\n",
       "      <th></th>\n",
       "      <th>Status</th>\n",
       "      <th>PACE</th>\n",
       "      <th>eFG.</th>\n",
       "      <th>TOrate</th>\n",
       "      <th>FTrate</th>\n",
       "      <th>ORTG</th>\n",
       "      <th>DRTG</th>\n",
       "      <th>NETRTG</th>\n",
       "    </tr>\n",
       "  </thead>\n",
       "  <tbody>\n",
       "    <tr>\n",
       "      <th>0</th>\n",
       "      <td>RJ.BARRETT On</td>\n",
       "      <td>18.627615</td>\n",
       "      <td>0.566</td>\n",
       "      <td>0.177</td>\n",
       "      <td>0.321</td>\n",
       "      <td>115.758</td>\n",
       "      <td>92.567</td>\n",
       "      <td>23.191</td>\n",
       "    </tr>\n",
       "    <tr>\n",
       "      <th>1</th>\n",
       "      <td>RJ.BARRETT Off</td>\n",
       "      <td>18.764744</td>\n",
       "      <td>0.500</td>\n",
       "      <td>0.172</td>\n",
       "      <td>0.356</td>\n",
       "      <td>101.562</td>\n",
       "      <td>86.325</td>\n",
       "      <td>15.238</td>\n",
       "    </tr>\n",
       "  </tbody>\n",
       "</table>\n",
       "</div>"
      ],
      "text/plain": [
       "           Status       PACE   eFG.  TOrate  FTrate     ORTG    DRTG  NETRTG\n",
       "0   RJ.BARRETT On  18.627615  0.566   0.177   0.321  115.758  92.567  23.191\n",
       "1  RJ.BARRETT Off  18.764744  0.500   0.172   0.356  101.562  86.325  15.238"
      ]
     },
     "execution_count": 39,
     "metadata": {},
     "output_type": "execute_result"
    }
   ],
   "source": [
    "rj_four_factors"
   ]
  },
  {
   "cell_type": "code",
   "execution_count": 40,
   "id": "b6f19ba3",
   "metadata": {},
   "outputs": [],
   "source": [
    "cam_four_factors = PACE(cam)\n",
    "cam_four_factors = select_four_factors(cam_four_factors)"
   ]
  },
  {
   "cell_type": "code",
   "execution_count": 41,
   "id": "98bcb980",
   "metadata": {},
   "outputs": [
    {
     "data": {
      "text/html": [
       "<div>\n",
       "<style scoped>\n",
       "    .dataframe tbody tr th:only-of-type {\n",
       "        vertical-align: middle;\n",
       "    }\n",
       "\n",
       "    .dataframe tbody tr th {\n",
       "        vertical-align: top;\n",
       "    }\n",
       "\n",
       "    .dataframe thead th {\n",
       "        text-align: right;\n",
       "    }\n",
       "</style>\n",
       "<table border=\"1\" class=\"dataframe\">\n",
       "  <thead>\n",
       "    <tr style=\"text-align: right;\">\n",
       "      <th></th>\n",
       "      <th>Status</th>\n",
       "      <th>PACE</th>\n",
       "      <th>eFG.</th>\n",
       "      <th>TOrate</th>\n",
       "      <th>FTrate</th>\n",
       "      <th>ORTG</th>\n",
       "      <th>DRTG</th>\n",
       "      <th>NETRTG</th>\n",
       "    </tr>\n",
       "  </thead>\n",
       "  <tbody>\n",
       "    <tr>\n",
       "      <th>0</th>\n",
       "      <td>CAM.REDDISH On</td>\n",
       "      <td>18.627615</td>\n",
       "      <td>0.566</td>\n",
       "      <td>0.177</td>\n",
       "      <td>0.321</td>\n",
       "      <td>115.758</td>\n",
       "      <td>92.567</td>\n",
       "      <td>23.191</td>\n",
       "    </tr>\n",
       "    <tr>\n",
       "      <th>1</th>\n",
       "      <td>CAM.REDDISH Off</td>\n",
       "      <td>18.619824</td>\n",
       "      <td>0.552</td>\n",
       "      <td>0.134</td>\n",
       "      <td>0.310</td>\n",
       "      <td>120.758</td>\n",
       "      <td>87.575</td>\n",
       "      <td>33.183</td>\n",
       "    </tr>\n",
       "  </tbody>\n",
       "</table>\n",
       "</div>"
      ],
      "text/plain": [
       "            Status       PACE   eFG.  TOrate  FTrate     ORTG    DRTG  NETRTG\n",
       "0   CAM.REDDISH On  18.627615  0.566   0.177   0.321  115.758  92.567  23.191\n",
       "1  CAM.REDDISH Off  18.619824  0.552   0.134   0.310  120.758  87.575  33.183"
      ]
     },
     "execution_count": 41,
     "metadata": {},
     "output_type": "execute_result"
    }
   ],
   "source": [
    "cam_four_factors"
   ]
  },
  {
   "cell_type": "markdown",
   "id": "54f42e82",
   "metadata": {},
   "source": [
    "## Graph"
   ]
  },
  {
   "cell_type": "code",
   "execution_count": 44,
   "id": "265f9a7d",
   "metadata": {},
   "outputs": [],
   "source": [
    "import seaborn as sns\n",
    "import matplotlib.pyplot as plt"
   ]
  },
  {
   "cell_type": "code",
   "execution_count": 45,
   "id": "4f6540fa",
   "metadata": {},
   "outputs": [],
   "source": [
    "sns.set(style=\"darkgrid\")"
   ]
  },
  {
   "cell_type": "code",
   "execution_count": 46,
   "id": "a3f2b3ad",
   "metadata": {},
   "outputs": [
    {
     "ename": "ValueError",
     "evalue": "'zion_four_factors' is not one of the example datasets.",
     "output_type": "error",
     "traceback": [
      "\u001b[1;31m---------------------------------------------------------------------------\u001b[0m",
      "\u001b[1;31mValueError\u001b[0m                                Traceback (most recent call last)",
      "\u001b[1;32m<ipython-input-46-7049ed4fcb94>\u001b[0m in \u001b[0;36m<module>\u001b[1;34m\u001b[0m\n\u001b[1;32m----> 1\u001b[1;33m \u001b[0mzion_impact\u001b[0m \u001b[1;33m=\u001b[0m \u001b[0msns\u001b[0m\u001b[1;33m.\u001b[0m\u001b[0mload_dataset\u001b[0m\u001b[1;33m(\u001b[0m\u001b[1;34m\"zion_four_factors\"\u001b[0m\u001b[1;33m)\u001b[0m\u001b[1;33m\u001b[0m\u001b[1;33m\u001b[0m\u001b[0m\n\u001b[0m",
      "\u001b[1;32m~\\anaconda3\\lib\\site-packages\\seaborn\\utils.py\u001b[0m in \u001b[0;36mload_dataset\u001b[1;34m(name, cache, data_home, **kws)\u001b[0m\n\u001b[0;32m    484\u001b[0m         \u001b[1;32mif\u001b[0m \u001b[1;32mnot\u001b[0m \u001b[0mos\u001b[0m\u001b[1;33m.\u001b[0m\u001b[0mpath\u001b[0m\u001b[1;33m.\u001b[0m\u001b[0mexists\u001b[0m\u001b[1;33m(\u001b[0m\u001b[0mcache_path\u001b[0m\u001b[1;33m)\u001b[0m\u001b[1;33m:\u001b[0m\u001b[1;33m\u001b[0m\u001b[1;33m\u001b[0m\u001b[0m\n\u001b[0;32m    485\u001b[0m             \u001b[1;32mif\u001b[0m \u001b[0mname\u001b[0m \u001b[1;32mnot\u001b[0m \u001b[1;32min\u001b[0m \u001b[0mget_dataset_names\u001b[0m\u001b[1;33m(\u001b[0m\u001b[1;33m)\u001b[0m\u001b[1;33m:\u001b[0m\u001b[1;33m\u001b[0m\u001b[1;33m\u001b[0m\u001b[0m\n\u001b[1;32m--> 486\u001b[1;33m                 \u001b[1;32mraise\u001b[0m \u001b[0mValueError\u001b[0m\u001b[1;33m(\u001b[0m\u001b[1;34mf\"'{name}' is not one of the example datasets.\"\u001b[0m\u001b[1;33m)\u001b[0m\u001b[1;33m\u001b[0m\u001b[1;33m\u001b[0m\u001b[0m\n\u001b[0m\u001b[0;32m    487\u001b[0m             \u001b[0murlretrieve\u001b[0m\u001b[1;33m(\u001b[0m\u001b[0mfull_path\u001b[0m\u001b[1;33m,\u001b[0m \u001b[0mcache_path\u001b[0m\u001b[1;33m)\u001b[0m\u001b[1;33m\u001b[0m\u001b[1;33m\u001b[0m\u001b[0m\n\u001b[0;32m    488\u001b[0m         \u001b[0mfull_path\u001b[0m \u001b[1;33m=\u001b[0m \u001b[0mcache_path\u001b[0m\u001b[1;33m\u001b[0m\u001b[1;33m\u001b[0m\u001b[0m\n",
      "\u001b[1;31mValueError\u001b[0m: 'zion_four_factors' is not one of the example datasets."
     ]
    }
   ],
   "source": [
    "zion_impact = sns.load_dataset(\"zion_four_factors\")"
   ]
  },
  {
   "cell_type": "code",
   "execution_count": 50,
   "id": "e99d7b10",
   "metadata": {},
   "outputs": [
    {
     "data": {
      "text/plain": [
       "<AxesSubplot:xlabel='Status'>"
      ]
     },
     "execution_count": 50,
     "metadata": {},
     "output_type": "execute_result"
    },
    {
     "data": {
      "image/png": "[encoded data removed]",
      "text/plain": [
       "<Figure size 432x288 with 1 Axes>"
      ]
     },
     "metadata": {},
     "output_type": "display_data"
    }
   ],
   "source": [
    "zion_four_factors.plot.bar(x = 'Status', y = ['PACE'], rot = 40)"
   ]
  },
  {
   "cell_type": "code",
   "execution_count": null,
   "id": "beb96a73",
   "metadata": {},
   "outputs": [],
   "source": []
  },
  {
   "cell_type": "code",
   "execution_count": null,
   "id": "84f03b17",
   "metadata": {},
   "outputs": [],
   "source": []
  }
 ],
 "metadata": {
  "kernelspec": {
   "display_name": "Python 3",
   "language": "python",
   "name": "python3"
  },
  "language_info": {
   "codemirror_mode": {
    "name": "ipython",
    "version": 3
   },
   "file_extension": ".py",
   "mimetype": "text/x-python",
   "name": "python",
   "nbconvert_exporter": "python",
   "pygments_lexer": "ipython3",
   "version": "3.8.8"
  }
 },
 "nbformat": 4,
 "nbformat_minor": 5
}
